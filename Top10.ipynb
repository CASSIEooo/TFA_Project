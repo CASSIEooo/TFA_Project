{
 "cells": [
  {
   "cell_type": "code",
   "execution_count": null,
   "id": "9666003e-e8e2-4990-8e40-ccc0d3ce6604",
   "metadata": {},
   "outputs": [],
   "source": [
    "import pandas as pd\n",
    "df = pd.read_csv(\"311_Service_Requests_2020.csv\")\n",
    "my_zip_code = df[df[\"Incident Zip\"]==10027]\n",
    "top10 = my_zip_code[\"Complaint Type\"].value_counts().head(10)"
   ]
  }
 ],
 "metadata": {
  "kernelspec": {
   "display_name": "Python 3",
   "language": "python",
   "name": "python3"
  },
  "language_info": {
   "codemirror_mode": {
    "name": "ipython",
    "version": 3
   },
   "file_extension": ".py",
   "mimetype": "text/x-python",
   "name": "python",
   "nbconvert_exporter": "python",
   "pygments_lexer": "ipython3",
   "version": "3.8.8"
  }
 },
 "nbformat": 4,
 "nbformat_minor": 5
}
