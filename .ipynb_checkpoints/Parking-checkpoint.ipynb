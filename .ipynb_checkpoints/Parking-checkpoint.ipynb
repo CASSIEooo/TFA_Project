{
 "cells": [
  {
   "cell_type": "code",
   "execution_count": null,
   "id": "00b7b750-793a-4119-b1b8-de20ede78451",
   "metadata": {},
   "outputs": [],
   "source": [
    "import pandas as pd\n",
    "df = pd.read_csv(\"311_Service_Requests_2020.csv\")\n",
    "\n",
    "# Choose 10027 as our zip code\n",
    "my_zip_code = df[df[\"Incident Zip\"]==10027]\n",
    " \n",
    "my_illegal_parking_rate = sum(my_zip_code[\"Complaint Type\"] == \"Illegal Parking\") / my_zip_code[\"Complaint Type\"].count()\n",
    "global_illegal_parking_rate = sum(df[\"Complaint Type\"] == \"Illegal Parking\") / df[\"Complaint Type\"].count()\n",
    "higher_parking_proportion = my_illegal_parking_rate > global_illegal_parking_rate"
   ]
  }
 ],
 "metadata": {
  "kernelspec": {
   "display_name": "Python 3",
   "language": "python",
   "name": "python3"
  },
  "language_info": {
   "codemirror_mode": {
    "name": "ipython",
    "version": 3
   },
   "file_extension": ".py",
   "mimetype": "text/x-python",
   "name": "python",
   "nbconvert_exporter": "python",
   "pygments_lexer": "ipython3",
   "version": "3.8.8"
  }
 },
 "nbformat": 4,
 "nbformat_minor": 5
}
