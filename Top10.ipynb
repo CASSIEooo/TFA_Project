{
 "cells": [
  {
   "cell_type": "code",
   "execution_count": null,
   "id": "5df229f9-0b65-41f1-9437-f083f28960a5",
   "metadata": {},
   "outputs": [],
   "source": [
    "import pandas as pd\n",
    "df = pd.read_csv('311_Service_Requests_2020.csv')\n",
    "my_zip_code = df[df['Incident Zip']==10027]\n",
    "top10 = my_zip_code['Complaint Type'].value_counts().head(10)"
   ]
  }
 ],
 "metadata": {
  "kernelspec": {
   "display_name": "Python 3 (ipykernel)",
   "language": "python",
   "name": "python3"
  },
  "language_info": {
   "codemirror_mode": {
    "name": "ipython",
    "version": 3
   },
   "file_extension": ".py",
   "mimetype": "text/x-python",
   "name": "python",
   "nbconvert_exporter": "python",
   "pygments_lexer": "ipython3",
   "version": "3.9.7"
  }
 },
 "nbformat": 4,
 "nbformat_minor": 5
}
